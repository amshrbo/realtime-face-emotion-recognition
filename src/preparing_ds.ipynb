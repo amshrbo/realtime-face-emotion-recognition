{
  "nbformat": 4,
  "nbformat_minor": 0,
  "metadata": {
    "colab": {
      "name": "emotion_recognition.ipynb",
      "provenance": [],
      "collapsed_sections": []
    },
    "kernelspec": {
      "name": "python3",
      "display_name": "Python 3"
    },
    "language_info": {
      "name": "python"
    }
  },
  "cells": [
    {
      "cell_type": "markdown",
      "metadata": {
        "id": "kZ1-83sQrBbo"
      },
      "source": [
        "# Imprting necessary **libraries**"
      ]
    },
    {
      "cell_type": "code",
      "metadata": {
        "id": "4JHTWhQGskgh"
      },
      "source": [
        "import tensorflow as tf \n",
        "import cv2\n",
        "import numpy as np"
      ],
      "execution_count": 46,
      "outputs": []
    },
    {
      "cell_type": "markdown",
      "metadata": {
        "id": "t6AhKzYXtUpT"
      },
      "source": [
        "# Getting and preprocessing the dataset "
      ]
    },
    {
      "cell_type": "markdown",
      "metadata": {
        "id": "QFJJm0NAtfA2"
      },
      "source": [
        "## Getting the dataset\n",
        "- The dataset that I'm gonna work with is the fer2013 from kaggle\n",
        "1. mounting google drive into my notebook\n",
        "1. Showing the files that contains the dataset"
      ]
    },
    {
      "cell_type": "code",
      "metadata": {
        "colab": {
          "base_uri": "https://localhost:8080/"
        },
        "id": "29ou6CiYtLVp",
        "outputId": "45392486-a229-4a99-f6be-93e73ef3798b"
      },
      "source": [
        "# 1. First mounting google drive into /content/gdrive\n",
        "from google.colab import drive\n",
        "drive.mount('/content/gdrive')"
      ],
      "execution_count": 47,
      "outputs": [
        {
          "output_type": "stream",
          "text": [
            "Drive already mounted at /content/gdrive; to attempt to forcibly remount, call drive.mount(\"/content/gdrive\", force_remount=True).\n"
          ],
          "name": "stdout"
        }
      ]
    },
    {
      "cell_type": "code",
      "metadata": {
        "colab": {
          "base_uri": "https://localhost:8080/"
        },
        "id": "7pwz0d5w09rV",
        "outputId": "c5612a57-0584-48e9-95fd-d3c2b9d4cdeb"
      },
      "source": [
        "# 2. This is our dataset\n",
        "!ls /content/gdrive/MyDrive/Colab\\ Notebooks/datasets/archive.zip"
      ],
      "execution_count": 48,
      "outputs": [
        {
          "output_type": "stream",
          "text": [
            "ls: cannot access '/content/gdrive/MyDrive/Colab Notebooks/datasets/archive.zip': No such file or directory\n"
          ],
          "name": "stdout"
        }
      ]
    },
    {
      "cell_type": "code",
      "metadata": {
        "id": "DUijD7xb3y7J",
        "colab": {
          "base_uri": "https://localhost:8080/"
        },
        "outputId": "45983d87-7d40-4ec5-a0f0-0e541929055c"
      },
      "source": [
        "# 3. making a directory and moving the data on it to extract it\n",
        "!mkdir /content/dataset\n",
        "!mv /content/gdrive/MyDrive/Colab\\ Notebooks/datasets/archive.zip /content/dataset/"
      ],
      "execution_count": 49,
      "outputs": [
        {
          "output_type": "stream",
          "text": [
            "mkdir: cannot create directory ‘/content/dataset’: File exists\n",
            "mv: cannot stat '/content/gdrive/MyDrive/Colab Notebooks/datasets/archive.zip': No such file or directory\n"
          ],
          "name": "stdout"
        }
      ]
    },
    {
      "cell_type": "code",
      "metadata": {
        "id": "UJ_Xhddh3zvO"
      },
      "source": [
        "# 4. Unzipping the dataset\n",
        "import zipfile\n",
        "with zipfile.ZipFile('/content/dataset/archive.zip', 'r') as zip_ref:\n",
        "    zip_ref.extractall('/content/dataset/')"
      ],
      "execution_count": 50,
      "outputs": []
    },
    {
      "cell_type": "code",
      "metadata": {
        "colab": {
          "base_uri": "https://localhost:8080/"
        },
        "id": "LsrY_KO8360N",
        "outputId": "bfdcbd22-2225-4408-ad9b-f20b0b0e6494"
      },
      "source": [
        "!ls /content/dataset/"
      ],
      "execution_count": 51,
      "outputs": [
        {
          "output_type": "stream",
          "text": [
            "archive.zip  test  train\n"
          ],
          "name": "stdout"
        }
      ]
    },
    {
      "cell_type": "markdown",
      "metadata": {
        "id": "xUn9xkAo5ajy"
      },
      "source": [
        "**Now I've imported the data from drive and extracted it succesfully into /content/dataset**"
      ]
    },
    {
      "cell_type": "markdown",
      "metadata": {
        "id": "adz_VTR-5s2_"
      },
      "source": [
        "## Preprocessing the dataset"
      ]
    },
    {
      "cell_type": "code",
      "metadata": {
        "id": "OU7Z2R5g6cRX"
      },
      "source": [
        "import matplotlib.pyplot as plt"
      ],
      "execution_count": 52,
      "outputs": []
    },
    {
      "cell_type": "markdown",
      "metadata": {
        "id": "k6gWgUnD7XNB"
      },
      "source": [
        "- Plotting a sample image "
      ]
    },
    {
      "cell_type": "code",
      "metadata": {
        "colab": {
          "base_uri": "https://localhost:8080/",
          "height": 302
        },
        "id": "iQUp9cJK5zLj",
        "outputId": "f73ae31f-56ab-4a1a-da0c-dbe4648bf53e"
      },
      "source": [
        "train_path = '/content/dataset/train'\n",
        "sample_img = cv2.imread(train_ds_path + '/happy/Training_1206.jpg')\n",
        "print(f\"The shape of the image is {sample_img.shape}\")\n",
        "plt.imshow(sample_img)"
      ],
      "execution_count": 53,
      "outputs": [
        {
          "output_type": "stream",
          "text": [
            "The shape of the image is (48, 48, 3)\n"
          ],
          "name": "stdout"
        },
        {
          "output_type": "execute_result",
          "data": {
            "text/plain": [
              "<matplotlib.image.AxesImage at 0x7f257f5c8b10>"
            ]
          },
          "metadata": {
            "tags": []
          },
          "execution_count": 53
        },
        {
          "output_type": "display_data",
          "data": {
            "image/png": "[encoded data removed]",
            "text/plain": [
              "<Figure size 432x288 with 1 Axes>"
            ]
          },
          "metadata": {
            "tags": [],
            "needs_background": "light"
          }
        }
      ]
    },
    {
      "cell_type": "markdown",
      "metadata": {
        "id": "Ljxil-MM7_rr"
      },
      "source": [
        "### I'm gonna use Transefer learning here so I must preprocess the images to work with the resnet archticture.\n",
        "1. Extract every image from its folder (happy, sad, etc) in the `train` folder\n",
        "1. Label them as happy = 0, sad = 1 etc.\n",
        "1. put those images into a numpy array assigned to every image its label "
      ]
    },
    {
      "cell_type": "code",
      "metadata": {
        "id": "9IM3IEyWAH7M"
      },
      "source": [
        "sample_img_rsz = np.resize(sample_img, (224,224,3))"
      ],
      "execution_count": 64,
      "outputs": []
    },
    {
      "cell_type": "code",
      "metadata": {
        "id": "cfDPxO5i7MKs",
        "colab": {
          "base_uri": "https://localhost:8080/"
        },
        "outputId": "d7cee815-d18a-437d-a316-bdbc53ad208e"
      },
      "source": [
        "# adding a label for the above sample_img\n",
        "# and resizing it to match the input shape of resnet (224, 224, 3)\n",
        "sample_imgarr = np.array([np.resize(sample_img, (224,224,3)), 0])"
      ],
      "execution_count": 67,
      "outputs": [
        {
          "output_type": "stream",
          "text": [
            "/usr/local/lib/python3.7/dist-packages/ipykernel_launcher.py:2: VisibleDeprecationWarning: Creating an ndarray from ragged nested sequences (which is a list-or-tuple of lists-or-tuples-or ndarrays with different lengths or shapes) is deprecated. If you meant to do this, you must specify 'dtype=object' when creating the ndarray\n",
            "  \n"
          ],
          "name": "stderr"
        }
      ]
    },
    {
      "cell_type": "code",
      "metadata": {
        "id": "UTAUXLmWAQbV",
        "colab": {
          "base_uri": "https://localhost:8080/"
        },
        "outputId": "bae713e9-6d17-4a60-d97f-0bbbe018b90c"
      },
      "source": [
        "print(sample_imgarr.shape)\n",
        "print(sample_imgarr[0].shape)"
      ],
      "execution_count": 71,
      "outputs": [
        {
          "output_type": "stream",
          "text": [
            "(2,)\n",
            "(224, 224, 3)\n"
          ],
          "name": "stdout"
        }
      ]
    },
    {
      "cell_type": "markdown",
      "metadata": {
        "id": "E_sNAqBgPCxu"
      },
      "source": [
        "### Renaming folders "
      ]
    },
    {
      "cell_type": "code",
      "metadata": {
        "colab": {
          "base_uri": "https://localhost:8080/"
        },
        "id": "kBfF9hYZM7uO",
        "outputId": "962e6626-048f-4a6f-9957-ef19d7f1bdfb"
      },
      "source": [
        "# Those are the folders that the data divided into\n",
        "!ls /content/dataset/train"
      ],
      "execution_count": 73,
      "outputs": [
        {
          "output_type": "stream",
          "text": [
            "angry  disgust\tfear  happy  neutral  sad  surprise\n"
          ],
          "name": "stdout"
        }
      ]
    },
    {
      "cell_type": "code",
      "metadata": {
        "id": "qnlkKZ0rDZER"
      },
      "source": [
        "# creating lablels and renaming the folders\n",
        "labels = {\"angry\": 0, \"disgust\": 1, \"fear\": 2, \"happy\": 3, \n",
        "          \"neutral\": 4, \"sad\": 5, \"surprise\": 6}\n",
        "\n",
        "# Renaming these local folders\n",
        "for folder in os.listdir('/content/dataset/train/'):\n",
        "  num = labels[folder]\n",
        "  os.rename(f'/content/dataset/train/{folder}', f'/content/dataset/train/{num}')\n"
      ],
      "execution_count": 78,
      "outputs": []
    },
    {
      "cell_type": "code",
      "metadata": {
        "colab": {
          "base_uri": "https://localhost:8080/"
        },
        "id": "vVCHNRqMNMFJ",
        "outputId": "06ef7073-25dd-4c90-9254-58035c68d975"
      },
      "source": [
        "# Succesfully renamed\n",
        "!ls /content/dataset/train"
      ],
      "execution_count": 79,
      "outputs": [
        {
          "output_type": "stream",
          "text": [
            "0  1  2  3  4  5  6\n"
          ],
          "name": "stdout"
        }
      ]
    },
    {
      "cell_type": "markdown",
      "metadata": {
        "id": "rtX5pnHlPRvy"
      },
      "source": [
        "### Extracting every image and put it in an array\n",
        "1. Extract the image\n",
        "1. resizing it\n",
        "1. labeling that image\n",
        "1. append it to an array"
      ]
    },
    {
      "cell_type": "code",
      "metadata": {
        "colab": {
          "base_uri": "https://localhost:8080/",
          "height": 36
        },
        "id": "MEIp3liQPzF-",
        "outputId": "32f5f921-cdf2-463c-e15d-8558f6c88007"
      },
      "source": [
        "train_ds_path"
      ],
      "execution_count": 80,
      "outputs": [
        {
          "output_type": "execute_result",
          "data": {
            "application/vnd.google.colaboratory.intrinsic+json": {
              "type": "string"
            },
            "text/plain": [
              "'/content/dataset/train'"
            ]
          },
          "metadata": {
            "tags": []
          },
          "execution_count": 80
        }
      ]
    },
    {
      "cell_type": "code",
      "metadata": {
        "id": "kjW1FwHPO66P"
      },
      "source": [
        "train_ds = []\n",
        "\n",
        "def prepare_ds(ds_path):\n",
        "  for folder in os.listdir(ds_path):\n",
        "    for img_name in os.listdir(ds_path + f'/{folder}'):\n",
        "      # print(ds_path + f'/{folder}/{img_name}')\n",
        "\n",
        "      # reading the img\n",
        "      img = cv2.imread(ds_path + f'/{folder}/{img_name}')\n",
        "\n",
        "      #Resizing and adding the folder name as the label\n",
        "      img_arr = np.array([np.resize(img, (224,224,3)), int(folder)])\n",
        "\n",
        "      # append it to the big numpy list\n",
        "      train_ds.append(img_arr)\n"
      ],
      "execution_count": 101,
      "outputs": []
    },
    {
      "cell_type": "code",
      "metadata": {
        "colab": {
          "base_uri": "https://localhost:8080/"
        },
        "id": "QYdudgP7QvKf",
        "outputId": "613a7b37-0e93-4bdc-b4dd-9fb0bbbb06c2"
      },
      "source": [
        "prepare_ds(train_ds_path)"
      ],
      "execution_count": 102,
      "outputs": [
        {
          "output_type": "stream",
          "text": [
            "/usr/local/lib/python3.7/dist-packages/ipykernel_launcher.py:12: VisibleDeprecationWarning: Creating an ndarray from ragged nested sequences (which is a list-or-tuple of lists-or-tuples-or ndarrays with different lengths or shapes) is deprecated. If you meant to do this, you must specify 'dtype=object' when creating the ndarray\n",
            "  if sys.path[0] == '':\n"
          ],
          "name": "stderr"
        }
      ]
    },
    {
      "cell_type": "code",
      "metadata": {
        "colab": {
          "base_uri": "https://localhost:8080/"
        },
        "id": "LXWoc_PFQy-k",
        "outputId": "cd8ebc89-303a-426e-8ac8-c709c0907678"
      },
      "source": [
        "print(f'Number of images {len(train_ds)}')\n",
        "print(f'shape of our images {train_ds[0][0].shape}')\n",
        "print(f'The label of our first images {train_ds[0][1]}')"
      ],
      "execution_count": 106,
      "outputs": [
        {
          "output_type": "stream",
          "text": [
            "Number of images 28709\n",
            "shape of our images (224, 224, 3)\n",
            "The label of our first images 6\n"
          ],
          "name": "stdout"
        }
      ]
    },
    {
      "cell_type": "code",
      "metadata": {
        "id": "-sNvJEWwS1s5"
      },
      "source": [
        ""
      ],
      "execution_count": null,
      "outputs": []
    }
  ]
}