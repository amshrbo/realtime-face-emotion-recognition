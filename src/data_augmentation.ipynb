{
  "nbformat": 4,
  "nbformat_minor": 0,
  "metadata": {
    "colab": {
      "name": "fer2013-model-preprocessing.ipynb",
      "provenance": [],
      "collapsed_sections": []
    },
    "kernelspec": {
      "name": "python3",
      "display_name": "Python 3"
    },
    "language_info": {
      "name": "python"
    }
  },
  "cells": [
    {
      "cell_type": "markdown",
      "metadata": {
        "id": "df30RYerqZvA"
      },
      "source": [
        "## RoadMap\n",
        "1. Loading the data\n",
        "1. Preprocessing the data\n",
        "1. Data Augmentation for solving the imbalanced data problem"
      ]
    },
    {
      "cell_type": "markdown",
      "metadata": {
        "id": "q3uZmlFBrWXB"
      },
      "source": [
        "## 1. Loading the dataset [(FER-2013)](https://www.kaggle.com/msambare/fer2013)\n",
        "__For more details about this dataset you can visit:__\n",
        "  - kaggle repo of the data \n",
        "  - Or refer to my readme file it has a quick summary about it."
      ]
    },
    {
      "cell_type": "markdown",
      "metadata": {
        "id": "t23_43JLxTch"
      },
      "source": [
        "1.1 Connect to google drive"
      ]
    },
    {
      "cell_type": "code",
      "metadata": {
        "colab": {
          "base_uri": "https://localhost:8080/"
        },
        "id": "WMq3p8k7rUev",
        "outputId": "10263697-9859-453b-cf20-6921551feefa"
      },
      "source": [
        "!ls /content/drive/MyDrive/ColabNotebooks/datasets"
      ],
      "execution_count": 1,
      "outputs": [
        {
          "output_type": "stream",
          "text": [
            "archive.zip\n"
          ],
          "name": "stdout"
        }
      ]
    },
    {
      "cell_type": "markdown",
      "metadata": {
        "id": "g6TrEP8JxYVc"
      },
      "source": [
        "1.2 Unzipping the data"
      ]
    },
    {
      "cell_type": "code",
      "metadata": {
        "id": "w7YTPi5vrPK6"
      },
      "source": [
        "# First copy the data into my working directory\n",
        "!mkdir -p /content/dataset/fer2013"
      ],
      "execution_count": 2,
      "outputs": []
    },
    {
      "cell_type": "code",
      "metadata": {
        "id": "UvUmSF8Ixsmz"
      },
      "source": [
        "# Copy the arcive.zip file into the above dir\n",
        "!cp /content/drive/MyDrive/ColabNotebooks/datasets/archive.zip /content/dataset/fer2013"
      ],
      "execution_count": 3,
      "outputs": []
    },
    {
      "cell_type": "code",
      "metadata": {
        "colab": {
          "base_uri": "https://localhost:8080/"
        },
        "id": "mP0FJ5-bx29_",
        "outputId": "c9e6ef8a-349d-47ae-8f07-8594c6515666"
      },
      "source": [
        "# Unzip the archive file\n",
        "import zipfile\n",
        "with zipfile.ZipFile('/content/dataset/fer2013/archive.zip', 'r') as zip_ref:\n",
        "    zip_ref.extractall('/content/dataset/fer2013')\n",
        "\n",
        "!ls /content/dataset/fer2013/"
      ],
      "execution_count": 4,
      "outputs": [
        {
          "output_type": "stream",
          "text": [
            "archive.zip  test  train\n"
          ],
          "name": "stdout"
        }
      ]
    },
    {
      "cell_type": "code",
      "metadata": {
        "colab": {
          "base_uri": "https://localhost:8080/"
        },
        "id": "vJsh5ZqrylS7",
        "outputId": "9119aed2-0cac-43b7-b12c-5c86dc779644"
      },
      "source": [
        "!ls /content/dataset/fer2013/train"
      ],
      "execution_count": 5,
      "outputs": [
        {
          "output_type": "stream",
          "text": [
            "angry  disgust\tfear  happy  neutral  sad  surprise\n"
          ],
          "name": "stdout"
        }
      ]
    },
    {
      "cell_type": "markdown",
      "metadata": {
        "id": "jhPY_TGXzzqn"
      },
      "source": [
        "1.4 Getting a quick look at emotions and their number of provided examples."
      ]
    },
    {
      "cell_type": "code",
      "metadata": {
        "id": "7sLNjJp5yzQs"
      },
      "source": [
        "emotions = ['angry', 'disgust', 'fear', 'happy', 'neutral', 'sad', 'surprise']\n",
        "train_data_path = '/content/dataset/fer2013/train'\n",
        "test_data_path = '/content/dataset/fer2013/test'"
      ],
      "execution_count": 6,
      "outputs": []
    },
    {
      "cell_type": "code",
      "metadata": {
        "colab": {
          "base_uri": "https://localhost:8080/"
        },
        "id": "Z8ouba1Q0KlA",
        "outputId": "b7122b6d-bbba-4272-93dc-3b306e0f2226"
      },
      "source": [
        "# Checking for Imbalanced data\n",
        "import os\n",
        "\n",
        "emotions_distribution = {}\n",
        "for emo in emotions:\n",
        "  count = 0\n",
        "  count = len(os.listdir(os.path.join(train_data_path, emo)))\n",
        "  emotions_distribution[emo] = count\n",
        "\n",
        "emotions_distribution"
      ],
      "execution_count": 7,
      "outputs": [
        {
          "output_type": "execute_result",
          "data": {
            "text/plain": [
              "{'angry': 3995,\n",
              " 'disgust': 436,\n",
              " 'fear': 4097,\n",
              " 'happy': 7215,\n",
              " 'neutral': 4965,\n",
              " 'sad': 4830,\n",
              " 'surprise': 3171}"
            ]
          },
          "metadata": {},
          "execution_count": 7
        }
      ]
    },
    {
      "cell_type": "code",
      "metadata": {
        "colab": {
          "base_uri": "https://localhost:8080/",
          "height": 248
        },
        "id": "fOa_kTx41kqC",
        "outputId": "68d02c12-6d5c-4abc-e555-b819194fe012"
      },
      "source": [
        "from matplotlib import pyplot as plt \n",
        "\n",
        "plt.pie(list(emotions_distribution.values()),\n",
        "        labels = list(emotions_distribution.keys()),\n",
        "        autopct = '%1.1f%%')\n",
        "plt.show()"
      ],
      "execution_count": 8,
      "outputs": [
        {
          "output_type": "display_data",
          "data": {
            "image/png": "[encoded data removed]",
            "text/plain": [
              "<Figure size 432x288 with 1 Axes>"
            ]
          },
          "metadata": {}
        }
      ]
    },
    {
      "cell_type": "markdown",
      "metadata": {
        "id": "Py_yD62y4s1M"
      },
      "source": [
        "## 2. Fixing imbalanced dataset\n",
        "\n",
        "__We have an Imbalanced dataset here__\n",
        "\n",
        "__Raises the question how I'm gonna work with this imbalnce__\n",
        "\n",
        "1. Gonna drop the disgust category as there isn't enough data for it\n",
        "1. Gonna try to pump up the values of every other category to 6000 example per category"
      ]
    },
    {
      "cell_type": "markdown",
      "metadata": {
        "id": "V0a7kfuWDT3z"
      },
      "source": [
        "### 2.1 Dropping out the disgust category"
      ]
    },
    {
      "cell_type": "code",
      "metadata": {
        "colab": {
          "base_uri": "https://localhost:8080/"
        },
        "id": "eYEGlkdm2OOC",
        "outputId": "9b16e662-4bc6-466a-ea75-134fd93c25dc"
      },
      "source": [
        "!rm -rf /content/dataset/fer2013/train/disgust/\n",
        "!rm -rf /content/dataset/fer2013/test/disgust/\n",
        "\n",
        "!ls /content/dataset/fer2013/train/\n",
        "!ls /content/dataset/fer2013/test/"
      ],
      "execution_count": 9,
      "outputs": [
        {
          "output_type": "stream",
          "text": [
            "angry  fear  happy  neutral  sad  surprise\n",
            "angry  fear  happy  neutral  sad  surprise\n"
          ],
          "name": "stdout"
        }
      ]
    },
    {
      "cell_type": "markdown",
      "metadata": {
        "id": "4CgSQlSsD0Ju"
      },
      "source": [
        "### 2.2 Doing data augmentation for the rest of the data\n",
        "1. Preprocessing the data for the ImageDataGenerator class\n",
        "\n",
        "__Some important Notes__     \n",
        "  - ImgDataGenerator takes 4d array (1, any_w, any_h, 3)\n",
        "    > So we need to add this first dimension to our images\n",
        "\n",
        "  - We should preprocess our whole vioelnce dataset\n",
        "  - Adding it a giant list then converting it a numpy array\n"
      ]
    },
    {
      "cell_type": "code",
      "metadata": {
        "id": "faQyCYg5IOV8"
      },
      "source": [
        "import tensorflow as tf\n",
        "from tensorflow import keras\n",
        "from tensorflow.keras.preprocessing.image import ImageDataGenerator\n",
        "import numpy as np\n",
        "from PIL import Image\n",
        "import os"
      ],
      "execution_count": 10,
      "outputs": []
    },
    {
      "cell_type": "code",
      "metadata": {
        "id": "ZtSC9BJjIFBH"
      },
      "source": [
        "img_gen = ImageDataGenerator(\n",
        "        rotation_range=40,\n",
        "        width_shift_range=0.2,\n",
        "        height_shift_range=0.2,\n",
        "        rescale=1./255,\n",
        "        shear_range=0.2,\n",
        "        zoom_range=0.2,\n",
        "        horizontal_flip=True,\n",
        "        fill_mode='nearest')"
      ],
      "execution_count": 11,
      "outputs": []
    },
    {
      "cell_type": "code",
      "metadata": {
        "id": "NJYsJQLhDs03"
      },
      "source": [
        "def preparing_data(path):\n",
        "    img_data = []\n",
        "    img_sze = (224, 244)\n",
        "    \n",
        "    #looping over every Img resize and convert it to an array and append it to list\n",
        "    for img_name in os.listdir(path):\n",
        "        img_path = os.path.join(path, img_name)\n",
        "\n",
        "        img = Image.open(img_path).convert('RGB')\n",
        "        img = img.resize(img_sze)\n",
        "        img = np.array(img)\n",
        "        \n",
        "        img_data.append(img)\n",
        "    \n",
        "    return np.array(img_data)"
      ],
      "execution_count": 12,
      "outputs": []
    },
    {
      "cell_type": "code",
      "metadata": {
        "id": "HhiEp7PyHTNL"
      },
      "source": [
        "def generating_data(data, path_2_save, prefix, batch_size, batches_number):\n",
        "    \"\"\"\n",
        "    PARAMS::\n",
        "    data: a numpy array that contains all your images preprocessed \n",
        "    path_2_save: folder destination that you will save the data on\n",
        "    prefix: the prefix name of the generated files \n",
        "    batch_size: how many images to preduce in every iteration\n",
        "    batches_number: How many batches you wanna generate \n",
        "    -> no_imgs = batch_size * batches_number \n",
        "    \n",
        "    RETURNS::\n",
        "    it saves the files on to the destination path\n",
        "    \"\"\"\n",
        "    count = 0\n",
        "    for batch in img_gen.flow(data, batch_size=batch_size,\n",
        "                              save_to_dir=path_2_save,\n",
        "                              save_prefix=prefix, save_format='jpeg'):\n",
        "\n",
        "        if count > batches_number:\n",
        "            break      \n",
        "\n",
        "        count += 1"
      ],
      "execution_count": 13,
      "outputs": []
    },
    {
      "cell_type": "markdown",
      "metadata": {
        "id": "ZmXZZtXM04Ct"
      },
      "source": [
        "___Generating data for the surprise class___"
      ]
    },
    {
      "cell_type": "code",
      "metadata": {
        "id": "GTHUZU2BIB4P"
      },
      "source": [
        "!mkdir -p /content/dataset/generated/surprise "
      ],
      "execution_count": 17,
      "outputs": []
    },
    {
      "cell_type": "code",
      "metadata": {
        "id": "QDeGtlUHWtvp"
      },
      "source": [
        "generated_path = '/content/dataset/generated/surprise'\n",
        "surprise_path = '/content/dataset/fer2013/train/surprise'\n",
        "\n",
        "surprise_prepared = preparing_data(path=surprise_path)"
      ],
      "execution_count": 18,
      "outputs": []
    },
    {
      "cell_type": "code",
      "metadata": {
        "colab": {
          "base_uri": "https://localhost:8080/"
        },
        "id": "1KmOq90uXoHZ",
        "outputId": "e1e2c6b0-c8aa-4702-dfac-06bb8f7facde"
      },
      "source": [
        "surprise_prepared.shape"
      ],
      "execution_count": 19,
      "outputs": [
        {
          "output_type": "execute_result",
          "data": {
            "text/plain": [
              "(3171, 244, 224, 3)"
            ]
          },
          "metadata": {},
          "execution_count": 19
        }
      ]
    },
    {
      "cell_type": "code",
      "metadata": {
        "id": "8TcsoyWKz1Bz"
      },
      "source": [
        "# !rm -rf /content/dataset/generated/surprise/*"
      ],
      "execution_count": 22,
      "outputs": []
    },
    {
      "cell_type": "code",
      "metadata": {
        "id": "Lxlu0IwWYIyB"
      },
      "source": [
        "## Generating surprised data\n",
        "generating_data(surprise_prepared, generated_path, prefix='gen', batch_size=32, batches_number=80)"
      ],
      "execution_count": 24,
      "outputs": []
    },
    {
      "cell_type": "code",
      "metadata": {
        "id": "Fdi6krA7Y0ZQ"
      },
      "source": [
        "!ls /content/dataset/generated/surprise | wc -l"
      ],
      "execution_count": null,
      "outputs": []
    },
    {
      "cell_type": "code",
      "metadata": {
        "id": "raJbGJaUZFA-"
      },
      "source": [
        "!mv /content/dataset/generated/surprise/* /content/dataset/fer2013/train/surprise/."
      ],
      "execution_count": 26,
      "outputs": []
    },
    {
      "cell_type": "code",
      "metadata": {
        "colab": {
          "base_uri": "https://localhost:8080/"
        },
        "id": "Q3VRNwuq0bWg",
        "outputId": "81536ba7-4d0a-4212-f99b-967873678568"
      },
      "source": [
        "!ls /content/dataset/fer2013/train/surprise/ | wc -l"
      ],
      "execution_count": 28,
      "outputs": [
        {
          "output_type": "stream",
          "text": [
            "5795\n"
          ],
          "name": "stdout"
        }
      ]
    },
    {
      "cell_type": "code",
      "metadata": {
        "id": "Fd4iS47U1dKl"
      },
      "source": [
        "del surprise_prepared\n",
        "del surprise_path"
      ],
      "execution_count": 31,
      "outputs": []
    },
    {
      "cell_type": "markdown",
      "metadata": {
        "id": "gG0yUVpt0l59"
      },
      "source": [
        "__Now we almost 6000 imgs on the samllest class__\n",
        "\n",
        "__So let's repeat for the rest of the calssses__"
      ]
    },
    {
      "cell_type": "code",
      "metadata": {
        "id": "6NDT7JxX0hel"
      },
      "source": [
        "!rmdir /content/dataset/generated/surprise"
      ],
      "execution_count": 29,
      "outputs": []
    },
    {
      "cell_type": "code",
      "metadata": {
        "colab": {
          "base_uri": "https://localhost:8080/"
        },
        "id": "qZJuVq--1K87",
        "outputId": "83b4ef8a-b583-4dec-dd91-0f20ead6285f"
      },
      "source": [
        "emotions_distribution"
      ],
      "execution_count": 30,
      "outputs": [
        {
          "output_type": "execute_result",
          "data": {
            "text/plain": [
              "{'angry': 3995,\n",
              " 'disgust': 436,\n",
              " 'fear': 4097,\n",
              " 'happy': 7215,\n",
              " 'neutral': 4965,\n",
              " 'sad': 4830,\n",
              " 'surprise': 3171}"
            ]
          },
          "metadata": {},
          "execution_count": 30
        }
      ]
    },
    {
      "cell_type": "markdown",
      "metadata": {
        "id": "jJRnRPdU1jgq"
      },
      "source": [
        "___Generating for the angry class 2000 imgs___\n",
        "\n",
        "__steps__\n",
        "\n",
        "__prepare. generate, empty the memory__\n"
      ]
    },
    {
      "cell_type": "code",
      "metadata": {
        "id": "ySqN4RkF1VOg"
      },
      "source": [
        "## prepare\n",
        "angry_prepared = preparing_data('/content/dataset/fer2013/train/angry')"
      ],
      "execution_count": 32,
      "outputs": []
    },
    {
      "cell_type": "code",
      "metadata": {
        "id": "0ophucg62De4"
      },
      "source": [
        "## Generate 2000 imgs\n",
        "generating_data(angry_prepared,\n",
        "                '/content/dataset/fer2013/train/angry/',\n",
        "                prefix='gen',\n",
        "                batch_size=20,\n",
        "                batches_number=100)"
      ],
      "execution_count": 33,
      "outputs": []
    },
    {
      "cell_type": "code",
      "metadata": {
        "colab": {
          "base_uri": "https://localhost:8080/"
        },
        "id": "awNJtjfm2uK7",
        "outputId": "d7a964b5-057f-4f71-f626-556e5647a396"
      },
      "source": [
        "!ls /content/dataset/fer2013/train/angry/ | wc -l"
      ],
      "execution_count": 34,
      "outputs": [
        {
          "output_type": "stream",
          "text": [
            "6035\n"
          ],
          "name": "stdout"
        }
      ]
    },
    {
      "cell_type": "code",
      "metadata": {
        "id": "UjXsoNQR2k5o"
      },
      "source": [
        "## deleting the prepared data\n",
        "del angry_prepared"
      ],
      "execution_count": 35,
      "outputs": []
    },
    {
      "cell_type": "markdown",
      "metadata": {
        "id": "_n_Vr26v26f8"
      },
      "source": [
        "__Generate fear 2000 Imgs__"
      ]
    },
    {
      "cell_type": "code",
      "metadata": {
        "id": "4WAsOnXo21uN"
      },
      "source": [
        "fear_prepared = preparing_data('/content/dataset/fer2013/train/fear')\n",
        "\n",
        "generating_data(fear_prepared,\n",
        "                '/content/dataset/fer2013/train/fear/',\n",
        "                prefix='gen',\n",
        "                batch_size=20,\n",
        "                batches_number=100)\n"
      ],
      "execution_count": null,
      "outputs": []
    },
    {
      "cell_type": "code",
      "metadata": {
        "colab": {
          "base_uri": "https://localhost:8080/"
        },
        "id": "SoKrfx4V3qhR",
        "outputId": "72c1b851-8f98-40ec-a6a5-e9aaaa56c6c3"
      },
      "source": [
        "!ls /content/dataset/fer2013/train/fear/ | wc -l"
      ],
      "execution_count": 37,
      "outputs": [
        {
          "output_type": "stream",
          "text": [
            "6137\n"
          ],
          "name": "stdout"
        }
      ]
    },
    {
      "cell_type": "code",
      "metadata": {
        "id": "JUyHIYKv3cBk"
      },
      "source": [
        "del fear_prepared"
      ],
      "execution_count": 38,
      "outputs": []
    },
    {
      "cell_type": "markdown",
      "metadata": {
        "id": "3B9Sl3xO3z19"
      },
      "source": [
        "__Generate sad *1000* Imgs__"
      ]
    },
    {
      "cell_type": "code",
      "metadata": {
        "colab": {
          "base_uri": "https://localhost:8080/"
        },
        "id": "HCLfKgyz3uoS",
        "outputId": "26590f46-e931-4149-df4b-e722dec86fd8"
      },
      "source": [
        "sad_prepared = preparing_data('/content/dataset/fer2013/train/sad')\n",
        "\n",
        "generating_data(sad_prepared,\n",
        "                '/content/dataset/fer2013/train/sad/',\n",
        "                prefix='gen',\n",
        "                batch_size=20,\n",
        "                batches_number=100)\n",
        "!ls /content/dataset/fer2013/train/sad/ | wc -l"
      ],
      "execution_count": 39,
      "outputs": [
        {
          "output_type": "stream",
          "text": [
            "6870\n"
          ],
          "name": "stdout"
        }
      ]
    },
    {
      "cell_type": "code",
      "metadata": {
        "id": "O-Rv39yv4MeK"
      },
      "source": [
        "del sad_prepared"
      ],
      "execution_count": 40,
      "outputs": []
    },
    {
      "cell_type": "markdown",
      "metadata": {
        "id": "wzfoNHA-4dLP"
      },
      "source": [
        "__Generate neutral *1000* Imgs__"
      ]
    },
    {
      "cell_type": "code",
      "metadata": {
        "colab": {
          "base_uri": "https://localhost:8080/"
        },
        "id": "APnCAaad4aL4",
        "outputId": "2b070444-7332-443c-9598-aa30f7d0f53e"
      },
      "source": [
        "neutral_prepared = preparing_data('/content/dataset/fer2013/train/neutral')\n",
        "\n",
        "generating_data(neutral_prepared,\n",
        "                '/content/dataset/fer2013/train/neutral/',\n",
        "                prefix='gen',\n",
        "                batch_size=10,\n",
        "                batches_number=100)\n",
        "!ls /content/dataset/fer2013/train/neutral/ | wc -l"
      ],
      "execution_count": 41,
      "outputs": [
        {
          "output_type": "stream",
          "text": [
            "5985\n"
          ],
          "name": "stdout"
        }
      ]
    },
    {
      "cell_type": "code",
      "metadata": {
        "colab": {
          "base_uri": "https://localhost:8080/"
        },
        "id": "sKgDwPDQ4uCq",
        "outputId": "e5b6b3f8-7286-4563-b3ba-cb59c87d9992"
      },
      "source": [
        "data_path = '/content/dataset/fer2013/train'\n",
        "emo_dist = {}\n",
        "\n",
        "for dir in os.listdir(data_path):\n",
        "  imgs_count = len(os.listdir(os.path.join(data_path, dir)))\n",
        "  emo_dist[dir] = imgs_count\n",
        "  \n",
        "  print(f\"numer of imgs in the {dir} category is {imgs_count}\")"
      ],
      "execution_count": 45,
      "outputs": [
        {
          "output_type": "stream",
          "text": [
            "numer of imgs in the surprise category is 5795\n",
            "numer of imgs in the sad category is 6870\n",
            "numer of imgs in the angry category is 6035\n",
            "numer of imgs in the fear category is 6137\n",
            "numer of imgs in the happy category is 7215\n",
            "numer of imgs in the neutral category is 5985\n"
          ],
          "name": "stdout"
        }
      ]
    },
    {
      "cell_type": "code",
      "metadata": {
        "colab": {
          "base_uri": "https://localhost:8080/"
        },
        "id": "3DBhZy9t5Z2n",
        "outputId": "069081d9-7eda-4e92-b185-b6ecc9d37916"
      },
      "source": [
        "emo_dist"
      ],
      "execution_count": 46,
      "outputs": [
        {
          "output_type": "execute_result",
          "data": {
            "text/plain": [
              "{'angry': 6035,\n",
              " 'fear': 6137,\n",
              " 'happy': 7215,\n",
              " 'neutral': 5985,\n",
              " 'sad': 6870,\n",
              " 'surprise': 5795}"
            ]
          },
          "metadata": {},
          "execution_count": 46
        }
      ]
    },
    {
      "cell_type": "code",
      "metadata": {
        "colab": {
          "base_uri": "https://localhost:8080/",
          "height": 248
        },
        "id": "q3oHTNco6L2Y",
        "outputId": "46495d0b-db79-4826-a41a-ad3876f29a36"
      },
      "source": [
        "plt.pie(list(emo_dist.values()),\n",
        "        labels = list(emo_dist.keys()),\n",
        "        autopct = '%1.1f%%')\n",
        "plt.show()"
      ],
      "execution_count": 47,
      "outputs": [
        {
          "output_type": "display_data",
          "data": {
            "image/png": "[encoded data removed]",
            "text/plain": [
              "<Figure size 432x288 with 1 Axes>"
            ]
          },
          "metadata": {}
        }
      ]
    },
    {
      "cell_type": "markdown",
      "metadata": {
        "id": "jgNqVvUu6brK"
      },
      "source": [
        "__Wow Now It looks Much better__\n",
        "\n",
        "__Let's Now Save the edited data as an archive to use it later for training__"
      ]
    },
    {
      "cell_type": "code",
      "metadata": {
        "id": "n-pIVL6a6VYT"
      },
      "source": [
        "zf = zipfile.ZipFile(\"fer2013_balanced.zip\", \"w\")\n",
        "for dirname, subdirs, files in os.walk('/content/dataset/fer2013'):\n",
        "    zf.write(dirname)\n",
        "    for filename in files:\n",
        "        zf.write(os.path.join(dirname, filename))\n",
        "zf.close()"
      ],
      "execution_count": 50,
      "outputs": []
    },
    {
      "cell_type": "code",
      "metadata": {
        "id": "BYbMPDj299Ne"
      },
      "source": [
        "## copying it into my drive\n",
        "!cp /content/dataset/fer2013_balanced.zip /content/drive/MyDrive/DataSets/"
      ],
      "execution_count": 51,
      "outputs": []
    },
    {
      "cell_type": "markdown",
      "metadata": {
        "id": "ARg5AXpm-4mL"
      },
      "source": [
        "### Yeah ^_^ Done"
      ]
    }
  ]
}